{
 "cells": [
  {
   "cell_type": "markdown",
   "metadata": {},
   "source": [
    "# Tuple\n",
    "\n",
    "\n",
    "Advantages of Tuple over List\n",
    "Since, tuples are quite similiar to lists, both of them are used in similar situations as well.\n",
    "\n",
    "However, there are certain advantages of implementing a tuple over a list. Below listed are some of the main advantages:\n",
    "\n",
    "We generally use tuple for heterogeneous (different) datatypes and list for homogeneous (similar) datatypes.\n",
    "Since tuple are immutable, iterating through tuple is faster than with list. So there is a slight performance boost.\n",
    "Tuples that contain immutable elements can be used as key for a dictionary. With list, this is not possible.\n",
    "If you have data that doesn't change, implementing it as tuple will guarantee that it remains write-protected."
   ]
  },
  {
   "cell_type": "code",
   "execution_count": 1,
   "metadata": {},
   "outputs": [
    {
     "name": "stdout",
     "output_type": "stream",
     "text": [
      "p\n",
      "t\n",
      "s\n",
      "4\n"
     ]
    }
   ],
   "source": [
    "my_tuple = ('p','e','r','m','i','t')\n",
    "\n",
    "# index must be in range\n",
    "print(my_tuple[0])  # Output: 'p'\n",
    "print(my_tuple[5])  # Output: 't'\n",
    "\n",
    "\n",
    "# nested tuple\n",
    "n_tuple = (\"mouse\", [8, 4, 6], (1, 2, 3))\n",
    "\n",
    "print(n_tuple[0][3])   # Output: 's'\n",
    "print(n_tuple[1][1])   # Output: 4"
   ]
  },
  {
   "cell_type": "code",
   "execution_count": 2,
   "metadata": {},
   "outputs": [
    {
     "name": "stdout",
     "output_type": "stream",
     "text": [
      "t\n"
     ]
    }
   ],
   "source": [
    "my_tuple = ('p','e','r','m','i','t')\n",
    "\n",
    "print(my_tuple[-1])   # Output: 't'"
   ]
  },
  {
   "cell_type": "code",
   "execution_count": 3,
   "metadata": {},
   "outputs": [
    {
     "name": "stdout",
     "output_type": "stream",
     "text": [
      "('r', 'o', 'g')\n",
      "('p', 'r')\n",
      "('i', 'z')\n",
      "('p', 'r', 'o', 'g', 'r', 'a', 'm', 'i', 'z')\n"
     ]
    }
   ],
   "source": [
    "my_tuple = ('p','r','o','g','r','a','m','i','z')\n",
    "\n",
    "# elements 2nd to 4th\n",
    "print(my_tuple[1:4])  # Output: ('r', 'o', 'g')\n",
    "\n",
    "# elements beginning to 2nd\n",
    "print(my_tuple[:-7])  # Output: ('p', 'r')\n",
    "\n",
    "# elements 8th to end\n",
    "print(my_tuple[7:])  # Output: ('i', 'z')\n",
    "\n",
    "# elements beginning to end\n",
    "print(my_tuple[:])   # Output: ('p', 'r', 'o', 'g', 'r', 'a', 'm', 'i', 'z')"
   ]
  },
  {
   "cell_type": "code",
   "execution_count": 4,
   "metadata": {},
   "outputs": [
    {
     "name": "stdout",
     "output_type": "stream",
     "text": [
      "(4, 2, 3, [9, 5])\n",
      "('p', 'r', 'o', 'g', 'r', 'a', 'm', 'i', 'z')\n"
     ]
    }
   ],
   "source": [
    "my_tuple = (4, 2, 3, [6, 5])\n",
    "\n",
    "# we cannot change an element\n",
    "# If you uncomment line 8\n",
    "# you will get an error:\n",
    "# TypeError: 'tuple' object does not support item assignment\n",
    "\n",
    "#my_tuple[1] = 9\n",
    "\n",
    "# but item of mutable element can be changed\n",
    "my_tuple[3][0] = 9\n",
    "print(my_tuple)   # Output: (4, 2, 3, [9, 5])\n",
    "\n",
    "# tuples can be reassigned\n",
    "my_tuple = ('p','r','o','g','r','a','m','i','z')\n",
    "print(my_tuple)   # Output: ('p', 'r', 'o', 'g', 'r', 'a', 'm', 'i', 'z')"
   ]
  },
  {
   "cell_type": "markdown",
   "metadata": {},
   "source": [
    "#### Tuple Methods\n",
    "\n",
    "    Method\tDescription\n",
    "    count(x)\tReturn the number of items that is equal to x\n",
    "    index(x)\tReturn index of first item that is equal to x"
   ]
  },
  {
   "cell_type": "code",
   "execution_count": 5,
   "metadata": {},
   "outputs": [
    {
     "name": "stdout",
     "output_type": "stream",
     "text": [
      "2\n",
      "3\n"
     ]
    }
   ],
   "source": [
    "my_tuple = ('a','p','p','l','e',)\n",
    "\n",
    "# Count\n",
    "print(my_tuple.count('p'))\n",
    "\n",
    "# Index\n",
    "print(my_tuple.index('l'))"
   ]
  },
  {
   "cell_type": "markdown",
   "metadata": {},
   "source": [
    "#### Build-In Functions\n",
    "\n",
    "    Function\tDescription\n",
    "    all()\tReturn True if all elements of the tuple are true (or if the tuple is empty).\n",
    "    any()\tReturn True if any element of the tuple is true. If the tuple is empty, return False.\n",
    "    enumerate()\tReturn an enumerate object. It contains the index and value of all the items of tuple as pairs.\n",
    "    len()\tReturn the length (the number of items) in the tuple.\n",
    "    max()\tReturn the largest item in the tuple.\n",
    "    min()\tReturn the smallest item in the tuple\n",
    "    sorted()\tTake elements in the tuple and return a new sorted list (does not sort the tuple itself).\n",
    "    sum()\tRetrun the sum of all elements in the tuple.\n",
    "    tuple()\tConvert an iterable (list, string, set, dictionary) to a tuple."
   ]
  },
  {
   "cell_type": "code",
   "execution_count": null,
   "metadata": {
    "collapsed": true
   },
   "outputs": [],
   "source": []
  },
  {
   "cell_type": "markdown",
   "metadata": {},
   "source": [
    "# Set"
   ]
  },
  {
   "cell_type": "markdown",
   "metadata": {},
   "source": [
    "A set is an unordered collection of items. Every element is unique (no duplicates) and must be immutable (which cannot be changed).\n",
    "\n",
    "However, the set itself is mutable. We can add or remove items from it.\n",
    "\n",
    "Sets can be used to perform mathematical set operations like union, intersection, symmetric difference etc."
   ]
  },
  {
   "cell_type": "markdown",
   "metadata": {},
   "source": [
    "A set is created by placing all the items (elements) inside curly braces {}, separated by comma or by using the built-in function set().\n",
    "\n",
    "It can have any number of items and they may be of different types (integer, float, tuple, string etc.). But a set cannot have a mutable element, like list, set or dictionary, as its element.\n",
    "\n"
   ]
  },
  {
   "cell_type": "code",
   "execution_count": 6,
   "metadata": {},
   "outputs": [
    {
     "name": "stdout",
     "output_type": "stream",
     "text": [
      "{1, 2, 3, 4}\n",
      "{1, 2, 3}\n"
     ]
    }
   ],
   "source": [
    "# set do not have duplicates\n",
    "# Output: {1, 2, 3, 4}\n",
    "my_set = {1,2,3,4,3,2}\n",
    "print(my_set)\n",
    "\n",
    "# set cannot have mutable items\n",
    "# here [3, 4] is a mutable list\n",
    "# If you uncomment line #12,\n",
    "# this will cause an error.\n",
    "# TypeError: unhashable type: 'list'\n",
    "\n",
    "#my_set = {1, 2, [3, 4]}\n",
    "\n",
    "# we can make set from a list\n",
    "# Output: {1, 2, 3}\n",
    "my_set = set([1,2,3,2])\n",
    "print(my_set)"
   ]
  },
  {
   "cell_type": "code",
   "execution_count": 7,
   "metadata": {},
   "outputs": [
    {
     "name": "stdout",
     "output_type": "stream",
     "text": [
      "{1, 3}\n",
      "{1, 2, 3}\n",
      "{1, 2, 3, 4}\n",
      "{1, 2, 3, 4, 5, 6, 8}\n"
     ]
    }
   ],
   "source": [
    "# initialize my_set\n",
    "my_set = {1,3}\n",
    "print(my_set)\n",
    "\n",
    "# if you uncomment line 9,\n",
    "# you will get an error\n",
    "# TypeError: 'set' object does not support indexing\n",
    "\n",
    "#my_set[0]\n",
    "\n",
    "# add an element\n",
    "# Output: {1, 2, 3}\n",
    "my_set.add(2)\n",
    "print(my_set)\n",
    "\n",
    "# add multiple elements\n",
    "# Output: {1, 2, 3, 4}\n",
    "my_set.update([2,3,4])\n",
    "print(my_set)\n",
    "\n",
    "# add list and set\n",
    "# Output: {1, 2, 3, 4, 5, 6, 8}\n",
    "my_set.update([4,5], {1,6,8})\n",
    "print(my_set)"
   ]
  },
  {
   "cell_type": "code",
   "execution_count": 8,
   "metadata": {},
   "outputs": [
    {
     "name": "stdout",
     "output_type": "stream",
     "text": [
      "{1, 3, 4, 5, 6}\n",
      "{1, 3, 5, 6}\n",
      "{1, 3, 5}\n",
      "{1, 3, 5}\n"
     ]
    }
   ],
   "source": [
    "# initialize my_set\n",
    "my_set = {1, 3, 4, 5, 6}\n",
    "print(my_set)\n",
    "\n",
    "# discard an element\n",
    "# Output: {1, 3, 5, 6}\n",
    "my_set.discard(4)\n",
    "print(my_set)\n",
    "\n",
    "# remove an element\n",
    "# Output: {1, 3, 5}\n",
    "my_set.remove(6)\n",
    "print(my_set)\n",
    "\n",
    "# discard an element\n",
    "# not present in my_set\n",
    "# Output: {1, 3, 5}\n",
    "my_set.discard(2)\n",
    "print(my_set)\n",
    "\n",
    "# remove an element\n",
    "# not present in my_set\n",
    "# If you uncomment line 27,\n",
    "# you will get an error.\n",
    "# Output: KeyError: 2\n",
    "\n",
    "#my_set.remove(2)"
   ]
  },
  {
   "cell_type": "code",
   "execution_count": 9,
   "metadata": {},
   "outputs": [
    {
     "name": "stdout",
     "output_type": "stream",
     "text": [
      "{'e', 'W', 'o', 'd', 'H', 'r', 'l'}\n",
      "e\n",
      "{'o', 'd', 'H', 'r', 'l'}\n",
      "set()\n"
     ]
    }
   ],
   "source": [
    "# initialize my_set\n",
    "# Output: set of unique elements\n",
    "my_set = set(\"HelloWorld\")\n",
    "print(my_set)\n",
    "\n",
    "# pop an element\n",
    "# Output: random element\n",
    "print(my_set.pop())\n",
    "\n",
    "# pop another element\n",
    "# Output: random element\n",
    "my_set.pop()\n",
    "print(my_set)\n",
    "\n",
    "# clear my_set\n",
    "#Output: set()\n",
    "my_set.clear()\n",
    "print(my_set)"
   ]
  },
  {
   "cell_type": "markdown",
   "metadata": {},
   "source": [
    "#### Build-In Methods\n",
    "\n",
    "    Method\tDescription\n",
    "    add()\tAdds an element to the set\n",
    "    clear()\tRemoves all elements from the set\n",
    "    copy()\tReturns a copy of the set\n",
    "    difference()\tReturns the difference of two or more sets as a new set\n",
    "    difference_update()\tRemoves all elements of another set from this set\n",
    "    discard()\tRemoves an element from the set if it is a member. (Do nothing if the element is not in set)\n",
    "    intersection()\tReturns the intersection of two sets as a new set\n",
    "    intersection_update()\tUpdates the set with the intersection of itself and another\n",
    "    isdisjoint()\tReturns True if two sets have a null intersection\n",
    "    issubset()\tReturns True if another set contains this set\n",
    "    issuperset()\tReturns True if this set contains another set\n",
    "    pop()\tRemoves and returns an arbitary set element. Raise KeyError if the set is empty\n",
    "    remove()\tRemoves an element from the set. If the element is not a member, raise a KeyError\n",
    "    symmetric_difference()\tReturns the symmetric difference of two sets as a new set\n",
    "    symmetric_difference_update()\tUpdates a set with the symmetric difference of itself and another\n",
    "    union()\tReturns the union of sets in a new set\n",
    "    update()\tUpdates the set with the union of itself and others"
   ]
  },
  {
   "cell_type": "markdown",
   "metadata": {},
   "source": [
    "#### Build-In Functions\n",
    "\n",
    "    Function\tDescription\n",
    "    all()\tReturn True if all elements of the set are true (or if the set is empty).\n",
    "    any()\tReturn True if any element of the set is true. If the set is empty, return False.\n",
    "    enumerate()\tReturn an enumerate object. It contains the index and value of all the items of set as a pair.\n",
    "    len()\tReturn the length (the number of items) in the set.\n",
    "    max()\tReturn the largest item in the set.\n",
    "    min()\tReturn the smallest item in the set.\n",
    "    sorted()\tReturn a new sorted list from elements in the set(does not sort the set itself).\n",
    "    sum()\tRetrun the sum of all elements in the set."
   ]
  },
  {
   "cell_type": "code",
   "execution_count": null,
   "metadata": {
    "collapsed": true
   },
   "outputs": [],
   "source": []
  }
 ],
 "metadata": {
  "kernelspec": {
   "display_name": "Python 3",
   "language": "python",
   "name": "python3"
  },
  "language_info": {
   "codemirror_mode": {
    "name": "ipython",
    "version": 3
   },
   "file_extension": ".py",
   "mimetype": "text/x-python",
   "name": "python",
   "nbconvert_exporter": "python",
   "pygments_lexer": "ipython3",
   "version": "3.6.2"
  }
 },
 "nbformat": 4,
 "nbformat_minor": 2
}
