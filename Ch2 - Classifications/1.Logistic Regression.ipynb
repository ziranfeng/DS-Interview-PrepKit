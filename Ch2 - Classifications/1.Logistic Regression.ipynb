{
 "cells": [
  {
   "cell_type": "code",
   "execution_count": 3,
   "metadata": {},
   "outputs": [],
   "source": [
    "# Import moddules\n",
    "\n",
    "import numpy as np\n",
    "import pandas as pd\n",
    "from sklearn import linear_model\n",
    "from sklearn.model_selection import train_test_split\n",
    "from sklearn.model_selection import cross_val_predict\n",
    "from sklearn import metrics\n"
   ]
  },
  {
   "cell_type": "code",
   "execution_count": null,
   "metadata": {},
   "outputs": [],
   "source": [
    "\n",
    "def import_data():\n",
    "    \n",
    "    M, N = map(int, input().split())\n",
    "    raw_data = np.array([input().split() for _ in range(N)], float)\n",
    "\n",
    "    T = int(input())\n",
    "    test_raw_data = np.array([input().split() for _ in range(T)], float)\n",
    "    \n",
    "    return raw_data, test_raw_data\n"
   ]
  },
  {
   "cell_type": "code",
   "execution_count": 2,
   "metadata": {},
   "outputs": [],
   "source": [
    "\n",
    "def split_data(raw_input):\n",
    "    \n",
    "    # Seperating the target variable \n",
    "    X = raw_input.values[:, 1:5]  # index has to be changed based on different data set\n",
    "    Y = raw_input.values[:, 0]    # index has to be changed based on different data set\n",
    "  \n",
    "    # Spliting the dataset into train and test \n",
    "    X_train, X_validation, Y_train, Y_validation = train_test_split(\n",
    "        X, Y, test_size = 0.8, random_state = 1029) \n",
    "      \n",
    "    return X, Y, X_train, X_validation, Y_train, Y_validation\n"
   ]
  },
  {
   "cell_type": "code",
   "execution_count": 3,
   "metadata": {},
   "outputs": [],
   "source": [
    "\n",
    "def fit_logistic_reg(train_X, train_y):\n",
    "    \n",
    "    print(\"Fitting Logistic Regression through k-folds CV with penalty\")\n",
    "    logistic_reg_model = LogisticRegressionCV(fit_intercept=True, cv=5, penalty='l2', \n",
    "                                               tol=0.0001, max_iter=100, n_jobs=None,\n",
    "                                               # multi_class=’ovr’,         # binary\n",
    "                                               multi_class='multinomial',   # multiple classes\n",
    "                                               random_state=1029)\n",
    "    logistic_reg_model.fit(train_X, train_y)\n",
    "    \n",
    "    y_score = logistic_reg_model.score\n",
    "    print(y_score)\n",
    "    \n",
    "    return logistic_reg_model, y_score\n",
    "    "
   ]
  },
  {
   "cell_type": "code",
   "execution_count": null,
   "metadata": {},
   "outputs": [],
   "source": [
    "\n",
    "def ROC_AUC(Y_validation, score, n_classes):\n",
    "    # Compute ROC curve and AUC area for each class\n",
    "    fpr = dict()\n",
    "    tpr = dict()\n",
    "    roc_auc = dict()\n",
    "    \n",
    "    for i in range(n_classes):\n",
    "        fpr[i], tpr[i], _ = roc_curve(Y_validation[:, i], y_score[:, i])\n",
    "        roc_auc[i] = auc(fpr[i], tpr[i])\n",
    "\n",
    "    # Compute micro-average ROC curve and ROC area\n",
    "    fpr[\"micro\"], tpr[\"micro\"], _ = roc_curve(y_test.ravel(), y_score.ravel())\n",
    "    roc_auc[\"micro\"] = auc(fpr[\"micro\"], tpr[\"micro\"])\n",
    "    \n",
    "    plt.figure()\n",
    "    lw = 2\n",
    "    plt.plot(fpr[2], tpr[2], \n",
    "             color='darkorange',\n",
    "             lw=lw, \n",
    "             label='ROC curve (area = %0.2f)' % roc_auc[2])\n",
    "\n",
    "    plt.plot([0, 1], [0, 1], color='navy', lw=lw, linestyle='--')\n",
    "    plt.xlim([0.0, 1.0])\n",
    "    plt.ylim([0.0, 1.05])\n",
    "    plt.xlabel('False Positive Rate')\n",
    "    plt.ylabel('True Positive Rate')\n",
    "    plt.title('Receiver operating characteristic example')\n",
    "    plt.legend(loc=\"lower right\")\n",
    "    plt.show()\n",
    "    \n",
    "    return fpr, tpr, roc_auc\n"
   ]
  },
  {
   "cell_type": "code",
   "execution_count": 2,
   "metadata": {},
   "outputs": [],
   "source": [
    "\n",
    "# Function to make predictions \n",
    "def prediction(estimator, X_validation): \n",
    "    # Predicton on test with giniIndex \n",
    "    y_pred = estimator.predict(X_validation) \n",
    "    \n",
    "    print(\"Predicted values:\") \n",
    "    print(y_pred) \n",
    "    \n",
    "    return y_pred \n"
   ]
  },
  {
   "cell_type": "code",
   "execution_count": 6,
   "metadata": {},
   "outputs": [],
   "source": [
    "\n",
    "def evaluation(Y_validation, y_pred):\n",
    "    \n",
    "    confusion_matrix = metrics.confusion_matrix(Y_validation, y_pred)\n",
    "    print(\"Confusion Matrix: \", confusion_matrix) \n",
    "    \n",
    "    accy = accuracy_score(y_test,y_pred)*100\n",
    "    print (\"Accuracy : \", accy) \n",
    "      \n",
    "    classification_report = metrics.classification_report(Y_validation, y_pred)\n",
    "    print(\"Report : \", classification_report)\n",
    "    \n",
    "    logit_roc_auc = metrics.roc_auc_score(train_y, y_pred)\n",
    "    fpr, tpr, thresholds = metrics.roc_curve(train_y, estimator.predict_proba(train_X)[:,1])\n",
    "    \n",
    "    return y_pred, confusion_matrix, classification_report, logit_roc_auc, fpr, tpr, thresholds\n",
    "    "
   ]
  },
  {
   "cell_type": "code",
   "execution_count": 8,
   "metadata": {},
   "outputs": [],
   "source": [
    "\n",
    "def predict(estimator, test_X):\n",
    "    test_y_pred = estimator.predict(test_X)\n",
    "    prediction_results = '\\n'.join(list(map(str,test_y_pred)))\n",
    "    return prediction_results\n"
   ]
  },
  {
   "cell_type": "code",
   "execution_count": null,
   "metadata": {},
   "outputs": [],
   "source": []
  }
 ],
 "metadata": {
  "kernelspec": {
   "display_name": "Python 3",
   "language": "python",
   "name": "python3"
  },
  "language_info": {
   "codemirror_mode": {
    "name": "ipython",
    "version": 3
   },
   "file_extension": ".py",
   "mimetype": "text/x-python",
   "name": "python",
   "nbconvert_exporter": "python",
   "pygments_lexer": "ipython3",
   "version": "3.6.4"
  }
 },
 "nbformat": 4,
 "nbformat_minor": 2
}
