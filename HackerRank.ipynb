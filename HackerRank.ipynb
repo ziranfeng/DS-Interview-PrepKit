{
 "cells": [
  {
   "cell_type": "code",
   "execution_count": null,
   "metadata": {},
   "outputs": [],
   "source": [
    "import numpy as np\n",
    "from sklearn import linear_model\n",
    "\n",
    "def read_input():\n",
    "    train_data = list()\n",
    "    test_data = list()\n",
    "    F, N = map(int,input().split(' '))\n",
    "    [train_data.append(input().split(' ')) for _ in range(0,N)]\n",
    "    T = int(input())\n",
    "    [test_data.append(input().split(' ')) for _ in range(0,T)]\n",
    "    train_data = np.array(train_data,dtype=np.float64)\n",
    "    test_data = np.array(test_data,dtype=np.float64)\n",
    "    X_train = train_data[:,0:F]\n",
    "    Y_train = train_data[:,-1]\n",
    "    X_test = test_data\n",
    "    return X_train,Y_train,X_test\n",
    "\n",
    "def fit_and_predict(X_train,Y_train,X_test):\n",
    "    model = linear_model.LinearRegression()\n",
    "    model.fit(X_train,Y_train)\n",
    "    Y_test = model.predict(X_test)\n",
    "    return Y_test\n",
    "\n",
    "def main():\n",
    "    X_train, Y_train, X_test = read_input()\n",
    "    result = fit_and_predict(X_train,Y_train,X_test)\n",
    "    return '\\n'.join(list(map(str,result)))\n",
    "\n",
    "if __name__ == '__main__':\n",
    "    prediction = main()\n",
    "    print(prediction)"
   ]
  },
  {
   "cell_type": "code",
   "execution_count": null,
   "metadata": {
    "collapsed": true
   },
   "outputs": [],
   "source": [
    "# Enter your code here. Read input from STDIN. Print output to STDOUT\n",
    "\n",
    "# Read data to \"temp\" table\n",
    "temp <- read.table(\"/dev/stdin\", sep=\"\\t\", header=TRUE, skip=1);\n",
    "\n",
    "# Create a subset table \"temp_complete\" with complete cases only\n",
    "temp$complete = substr(temp$tmax,1,1)!=\"M\" & substr(temp$tmin,1,1)!=\"M\"\n",
    "temp_complete = subset(temp,temp$complete==TRUE)\n",
    "\n",
    "# Convert temperatures to numeric\n",
    "temp_complete$tmin <- as.numeric(as.character(temp_complete$tmin))\n",
    "temp_complete$tmax <- as.numeric(as.character(temp_complete$tmax))\n",
    "\n",
    "# Create models predicting tmin and tmax\n",
    "model_tmin <- lm(tmin~yyyy+month+tmax,data=temp_complete)\n",
    "model_tmax <- lm(tmax~yyyy+month+tmin,data=temp_complete)\n",
    "\n",
    "# Create a subset for predicting t_max, where tmax is missing\n",
    "temp_tmax_miss = subset(temp,substr(temp$tmax,1,1)==\"M\")\n",
    "temp_tmax_miss$tmin = as.numeric(as.character(temp_tmax_miss$tmin))\n",
    "\n",
    "# Create a subset for predicting t_max, where tmin is missing\n",
    "temp_tmin_miss = subset(temp,substr(temp$tmin,1,1)==\"M\")\n",
    "temp_tmin_miss$tmax = as.numeric(as.character(temp_tmin_miss$tmax))\n",
    "\n",
    "# Predict tmax and tmin based on a model built on complete cases\n",
    "temp_tmax_miss$pred <- predict(model_tmax, temp_tmax_miss) \n",
    "temp_tmin_miss$pred <- predict(model_tmin, temp_tmin_miss) \n",
    "\n",
    "# Prepare to export\n",
    "all <- temp_tmin_miss[c(\"tmin\",\"pred\")]\n",
    "all2 <- temp_tmax_miss[c(\"tmax\",\"pred\")]\n",
    "\n",
    "names(all)[1] <- \"label\"\n",
    "names(all2)[1] <- \"label\"\n",
    "\n",
    "all <- rbind(all,all2)\n",
    "all$pos <- as.numeric(substr(all$label,9,11))\n",
    "\n",
    "# Sort results in ascending order of missings\n",
    "all <- all[order(all$pos),]\n",
    "result <- all$pred\n",
    "\n",
    "# Export the results\n",
    "write.table(result, row.names=FALSE, col.names=FALSE)"
   ]
  }
 ],
 "metadata": {
  "kernelspec": {
   "display_name": "Python 3",
   "language": "python",
   "name": "python3"
  },
  "language_info": {
   "codemirror_mode": {
    "name": "ipython",
    "version": 3
   },
   "file_extension": ".py",
   "mimetype": "text/x-python",
   "name": "python",
   "nbconvert_exporter": "python",
   "pygments_lexer": "ipython3",
   "version": "3.6.2"
  }
 },
 "nbformat": 4,
 "nbformat_minor": 2
}
