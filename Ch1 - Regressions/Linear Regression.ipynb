{
 "cells": [
  {
   "cell_type": "code",
   "execution_count": 1,
   "metadata": {
    "collapsed": true
   },
   "outputs": [],
   "source": [
    "# Import moddules\n",
    "\n",
    "import numpy as np\n",
    "import pandas as pd\n",
    "\n",
    "from sklearn import linear_model\n",
    "from sklearn.model_selection import train_test_split\n",
    "from sklearn.model_selection import cross_val_predict\n",
    "\n",
    "from sklearn.metrics import confusion_matrix \n",
    "from sklearn.metrics import accuracy_score"
   ]
  },
  {
   "cell_type": "code",
   "execution_count": null,
   "metadata": {
    "collapsed": true
   },
   "outputs": [],
   "source": [
    "def import_data():\n",
    "    raw_df = pd.read_table(\"/dev/stdin\", \n",
    "                           sep=\"\\t\", header=0, \n",
    "                           skiprows=1\n",
    "                           # dtype={'yyyy':str, 'month':str, 'tmax':str, 'tmin':str}\n",
    "                          )\n",
    "    \n",
    "    # Printing the dataswet shape \n",
    "    print (\"Dataset Lenght: \", len(raw_df)) \n",
    "    print (\"Dataset Shape: \", raw_df.shape) \n",
    "      \n",
    "    # Printing the dataset top obseravtions \n",
    "    print (\"Dataset: \",raw_df.head())\n",
    "    \n",
    "    # Printing the each column and column type\n",
    "    print (\"Column Names:\",raw_df.columns.values)\n",
    "    print (\"Column Types:\",raw_df.dtypes)\n",
    "    \n",
    "    return raw_df"
   ]
  },
  {
   "cell_type": "code",
   "execution_count": 2,
   "metadata": {
    "collapsed": true
   },
   "outputs": [],
   "source": [
    "\n",
    "def split_data():\n",
    "    M, N = map(int, input().split())\n",
    "    raw_data = np.array([input().split() for _ in range(N)], float)\n",
    "    \n",
    "    raw_data_X = raw_data[:,:2]\n",
    "    raw_data_Y = raw_data[:,-1]\n",
    "\n",
    "    T = int(input())\n",
    "    test_data = np.array([input().split() for _ in range(T)], float)\n",
    "    \n",
    "    # Split raw_data to training and validation sets\n",
    "    X_train, X_validation, y_train, y_validation = train_test_split(raw_data[:,:2] ,raw_data[:,-1],\n",
    "                                                                    test_size=0.33, random_state=42)\n",
    "    \n",
    "    return X_train, X_validation, y_train, y_validation, test_data\n",
    "\n"
   ]
  },
  {
   "cell_type": "code",
   "execution_count": 3,
   "metadata": {
    "collapsed": true
   },
   "outputs": [],
   "source": [
    "\n",
    "def feature_engineer(raw_data_X, raw_data_Y, test_raw_data):\n",
    "\n",
    "    train_X_df = pd.DataFrame({'X1':raw_data_X[:,0],'X2':raw_data_X[:,1]})\n",
    "    train_Y_df = pd.DataFrame({'X3':raw_data_Y})\n",
    "    \n",
    "    test_df = pd.DataFrame({'X1':test_raw_data[:,0],'X2':test_raw_data[:,1]})\n",
    "\n",
    "    print(train_X_df.describe)\n",
    "\n",
    "    # Check if any missing value exist then fix them with mean [training set]\n",
    "    if train_X_df.isnull().values.any():\n",
    "        train_X_df[['X1','X2']]=train_X_df[['X1','X2']].apply(lambda x: x.fillna(x.mean()))\n",
    "\n",
    "    # Check outliers and remove the record [training set]\n",
    "    # keep only the ones that are within +/-3standard deviations in the column 'Data'.\n",
    "    train_X_df = train_X_df[np.abs(train_X_df.X1-train_X_df.X1.mean()) <= (3*train_X_df.X1.std())]\n",
    "    train_X_df = train_X_df[np.abs(train_X_df.X2-train_X_df.X1.mean()) <= (3*train_X_df.X2.std())]\n",
    "\n",
    "    # Normalize data [training and testing sets]\n",
    "    train_X_df = train_X_df.apply(lambda x: ((x - x.mean())/x.std()))\n",
    "    test_df = test_df.apply(lambda x: ((x - x.mean())/x.std()))\n",
    "\n",
    "    print('Train dataframe dimensions: ', train_X_df.shape)\n",
    "    print('Train dataframe dimensions: ', train_Y_df.shape)\n",
    "    print('Test dataframe dimensions: ', test_df.shape)\n",
    "\n",
    "    return train_X_df, train_Y_df, test_df\n",
    "\n"
   ]
  },
  {
   "cell_type": "code",
   "execution_count": 1,
   "metadata": {
    "collapsed": true
   },
   "outputs": [],
   "source": [
    "\n",
    "def fit_regression_model(X_train, Y_train):\n",
    "    \n",
    "    # Test a traditional Linear Regression model\n",
    "    model_regression = linear_model.LinearRegression(fit_intercept=True,\n",
    "                                                     normalize=False)\n",
    "    model_regression.fit(X_train, Y_train)\n",
    "\n",
    "    return model_regression\n"
   ]
  },
  {
   "cell_type": "code",
   "execution_count": 2,
   "metadata": {
    "collapsed": true
   },
   "outputs": [],
   "source": [
    "\n",
    "def fit_regularized_models(X_train, Y_train):\n",
    "    # Try a Linear Regression model with Ridge and k-CV\n",
    "    model_ridge = linear_model.RidgeCV(alphas=(0.1, 0.5, 1.0, 5.0, 7.0, 10.0), \n",
    "                                       fit_intercept=True, normalize=False, scoring=None, \n",
    "                                       cv=5, gcv_mode=None, store_cv_values=False)\n",
    "    model_ridge.fit(X_train, Y_train)\n",
    "\n",
    "    # Try a Linear Regression model with LASSO and k-CV\n",
    "    model_lasso = linear_model.LassoCV(eps=0.001, n_alphas=100, \n",
    "                                       alphas=(0.1, 0.5, 1.0, 5.0, 7.0, 10.0), \n",
    "                                       fit_intercept=True, normalize=False, max_iter=1000, \n",
    "                                       tol=0.0001, copy_X=True, cv=5)\n",
    "    model_lasso.fit(X_train, Y_train)\n",
    "\n",
    "    return model_ridge, model_lasso\n"
   ]
  },
  {
   "cell_type": "code",
   "execution_count": null,
   "metadata": {
    "collapsed": true
   },
   "outputs": [],
   "source": [
    "def prediction(estimator, X):\n",
    "    \n",
    "    y_pred = estimator.predict(X)\n",
    "    \n",
    "    return y_pred\n",
    "    "
   ]
  },
  {
   "cell_type": "code",
   "execution_count": 3,
   "metadata": {
    "collapsed": true
   },
   "outputs": [],
   "source": [
    "\n",
    "def evaluate_models(Y_train, y_pred):\n",
    "\n",
    "    mse = metrics.mean_squared_error(Y.as_matrix(), y_pred)\n",
    "    r_sq = metrics.r2_score(Y.as_matrix(), y_pred)\n",
    "    \n",
    "    return mse, r_sq\n"
   ]
  },
  {
   "cell_type": "code",
   "execution_count": 4,
   "metadata": {},
   "outputs": [
    {
     "ename": "NameError",
     "evalue": "name 'read_split_input' is not defined",
     "output_type": "error",
     "traceback": [
      "\u001b[0;31m---------------------------------------------------------------------------\u001b[0m",
      "\u001b[0;31mNameError\u001b[0m                                 Traceback (most recent call last)",
      "\u001b[0;32m<ipython-input-4-6ca9f7b67b35>\u001b[0m in \u001b[0;36m<module>\u001b[0;34m()\u001b[0m\n\u001b[1;32m     32\u001b[0m \u001b[0;34m\u001b[0m\u001b[0m\n\u001b[1;32m     33\u001b[0m \u001b[0;32mif\u001b[0m \u001b[0m__name__\u001b[0m \u001b[0;34m==\u001b[0m \u001b[0;34m'__main__'\u001b[0m\u001b[0;34m:\u001b[0m\u001b[0;34m\u001b[0m\u001b[0m\n\u001b[0;32m---> 34\u001b[0;31m     \u001b[0mmain\u001b[0m\u001b[0;34m(\u001b[0m\u001b[0;34m)\u001b[0m\u001b[0;34m\u001b[0m\u001b[0m\n\u001b[0m",
      "\u001b[0;32m<ipython-input-4-6ca9f7b67b35>\u001b[0m in \u001b[0;36mmain\u001b[0;34m()\u001b[0m\n\u001b[1;32m      1\u001b[0m \u001b[0;34m\u001b[0m\u001b[0m\n\u001b[1;32m      2\u001b[0m \u001b[0;32mdef\u001b[0m \u001b[0mmain\u001b[0m\u001b[0;34m(\u001b[0m\u001b[0;34m)\u001b[0m\u001b[0;34m:\u001b[0m\u001b[0;34m\u001b[0m\u001b[0m\n\u001b[0;32m----> 3\u001b[0;31m     \u001b[0mraw_data_X\u001b[0m\u001b[0;34m,\u001b[0m \u001b[0mraw_data_Y\u001b[0m\u001b[0;34m,\u001b[0m \u001b[0mtest_raw_data\u001b[0m \u001b[0;34m=\u001b[0m \u001b[0mread_split_input\u001b[0m\u001b[0;34m(\u001b[0m\u001b[0;34m)\u001b[0m\u001b[0;34m\u001b[0m\u001b[0m\n\u001b[0m\u001b[1;32m      4\u001b[0m     \u001b[0mtrain_X_df\u001b[0m\u001b[0;34m,\u001b[0m \u001b[0mtrain_Y_df\u001b[0m\u001b[0;34m,\u001b[0m \u001b[0mtest_df\u001b[0m \u001b[0;34m=\u001b[0m \u001b[0mfeature_engineer\u001b[0m\u001b[0;34m(\u001b[0m\u001b[0mraw_data_X\u001b[0m\u001b[0;34m,\u001b[0m \u001b[0mraw_data_Y\u001b[0m\u001b[0;34m,\u001b[0m \u001b[0mtest_raw_data\u001b[0m\u001b[0;34m)\u001b[0m\u001b[0;34m\u001b[0m\u001b[0m\n\u001b[1;32m      5\u001b[0m     \u001b[0;31m# print(train_X_df)\u001b[0m\u001b[0;34m\u001b[0m\u001b[0;34m\u001b[0m\u001b[0m\n",
      "\u001b[0;31mNameError\u001b[0m: name 'read_split_input' is not defined"
     ]
    }
   ],
   "source": [
    "\n",
    "def main():\n",
    "    raw_data_X, raw_data_Y, test_raw_data = read_split_input()\n",
    "    train_X_df, train_Y_df, test_df = feature_engineer(raw_data_X, raw_data_Y, test_raw_data)\n",
    "    # print(train_X_df)\n",
    "    print(train_Y_df)\n",
    "\n",
    "    model_regression = fit_regression_model(train_X_df, train_Y_df)\n",
    "    y_pred, mse, r_sq = evaluate_models(model_regression,train_X_df, train_Y_df)\n",
    "    print(model_regression)\n",
    "    print(\"Predictions: \", y_pred)\n",
    "    print(\"MSE: \", mse)\n",
    "    print(\"R-Squared: \", r_sq)\n",
    "    print(\"=======================================\")\n",
    "\n",
    "    model_ridge, model_lasso = fit_regularized_models(train_X_df, train_Y_df)\n",
    "    y_pred, mse, r_sq = evaluate_models(model_ridge,train_X_df, train_Y_df)\n",
    "    print(model_ridge)\n",
    "    print(\"Predictions: \", y_pred)\n",
    "    print(\"MSE: \", mse)\n",
    "    print(\"R-Squared: \", r_sq)\n",
    "    print(\"=======================================\")\n",
    "\n",
    "    y_pred, mse, r_sq = evaluate_models(model_lasso,train_X_df, train_Y_df)\n",
    "    print(model_lasso)\n",
    "    print(\"Predictions: \", y_pred)\n",
    "    print(\"MSE: \", mse)\n",
    "    print(\"R-Squared: \", r_sq)\n",
    "    print(\"=======================================\")\n",
    "    # return '\\n'.join(list(map(str,result)))\n",
    "\n",
    "\n",
    "if __name__ == '__main__':\n",
    "    main()\n"
   ]
  },
  {
   "cell_type": "code",
   "execution_count": null,
   "metadata": {
    "collapsed": true
   },
   "outputs": [],
   "source": []
  }
 ],
 "metadata": {
  "kernelspec": {
   "display_name": "Python 3",
   "language": "python",
   "name": "python3"
  },
  "language_info": {
   "codemirror_mode": {
    "name": "ipython",
    "version": 3
   },
   "file_extension": ".py",
   "mimetype": "text/x-python",
   "name": "python",
   "nbconvert_exporter": "python",
   "pygments_lexer": "ipython3",
   "version": "3.6.2"
  }
 },
 "nbformat": 4,
 "nbformat_minor": 2
}
