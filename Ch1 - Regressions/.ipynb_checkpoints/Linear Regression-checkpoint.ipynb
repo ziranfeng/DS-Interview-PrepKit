{
 "cells": [
  {
   "cell_type": "code",
   "execution_count": null,
   "metadata": {
    "collapsed": true
   },
   "outputs": [],
   "source": [
    "# Import moddules\n",
    "\n",
    "import numpy as np\n",
    "import pandas as pd\n",
    "from sklearn import linear_model\n",
    "from sklearn.model_selection import train_test_split\n",
    "from sklearn.model_selection import cross_val_predict\n",
    "from sklearn import metrics\n"
   ]
  },
  {
   "cell_type": "code",
   "execution_count": 2,
   "metadata": {
    "collapsed": true
   },
   "outputs": [],
   "source": [
    "\n",
    "def read_split_input():\n",
    "    M, N = map(int, input().split())\n",
    "    raw_data = np.array([input().split() for _ in range(N)], float)\n",
    "    raw_data_X = raw_data[:,:2]\n",
    "    raw_data_Y = raw_data[:,-1]\n",
    "\n",
    "    T = int(input())\n",
    "    test_raw_data = np.array([input().split() for _ in range(T)], float)\n",
    "    \n",
    "    # Split raw_data to training and validation sets\n",
    "    # X_train, X_valid, y_train, y_valid = train_test_split(raw_data[:,:2],raw_data[:,-1],test_size=0.33, random_state=42)\n",
    "    \n",
    "    return raw_data_X, raw_data_Y, test_raw_data\n",
    "\n"
   ]
  },
  {
   "cell_type": "code",
   "execution_count": 3,
   "metadata": {
    "collapsed": true
   },
   "outputs": [],
   "source": [
    "\n",
    "def feature_engineer(raw_data_X, raw_data_Y, test_raw_data):\n",
    "\n",
    "    train_X_df = pd.DataFrame({'X1':raw_data_X[:,0],'X2':raw_data_X[:,1]})\n",
    "    train_Y_df = pd.DataFrame({'X3':raw_data_Y})\n",
    "    \n",
    "    test_df = pd.DataFrame({'X1':test_raw_data[:,0],'X2':test_raw_data[:,1]})\n",
    "\n",
    "    print(train_X_df.describe)\n",
    "\n",
    "    # Check if any missing value exist then fix them with mean [training set]\n",
    "    if train_X_df.isnull().values.any():\n",
    "        train_X_df[['X1','X2']]=train_X_df[['X1','X2']].apply(lambda x: x.fillna(x.mean()))\n",
    "\n",
    "    # Check outliers and remove the record [training set]\n",
    "    # keep only the ones that are within +/-3standard deviations in the column 'Data'.\n",
    "    train_X_df = train_X_df[np.abs(train_X_df.X1-train_X_df.X1.mean()) <= (3*train_X_df.X1.std())]\n",
    "    train_X_df = train_X_df[np.abs(train_X_df.X2-train_X_df.X1.mean()) <= (3*train_X_df.X2.std())]\n",
    "\n",
    "    # Normalize data [training and testing sets]\n",
    "    train_X_df = train_X_df.apply(lambda x: ((x - x.mean())/x.std()))\n",
    "    test_df = test_df.apply(lambda x: ((x - x.mean())/x.std()))\n",
    "\n",
    "    print('Train dataframe dimensions: ', train_X_df.shape)\n",
    "    print('Train dataframe dimensions: ', train_Y_df.shape)\n",
    "    print('Test dataframe dimensions: ', test_df.shape)\n",
    "\n",
    "    return train_X_df, train_Y_df, test_df\n",
    "\n"
   ]
  },
  {
   "cell_type": "code",
   "execution_count": null,
   "metadata": {
    "collapsed": true
   },
   "outputs": [],
   "source": [
    "\n",
    "def fit_regression_model(train_X_df, train_Y_df):\n",
    "    \n",
    "    # Test a traditional Linear Regression model\n",
    "    model_regression = linear_model.LinearRegression()\n",
    "    model_regression.fit(train_X_df, train_Y_df)\n",
    "\n",
    "    return model_regression\n"
   ]
  },
  {
   "cell_type": "code",
   "execution_count": null,
   "metadata": {
    "collapsed": true
   },
   "outputs": [],
   "source": [
    "\n",
    "def fit_regularized_models(train_X_df, train_Y_df):\n",
    "    # Try a Linear Regression model with Ridge and k-CV\n",
    "    model_ridge = linear_model.RidgeCV(alphas=(0.1, 0.5, 1.0, 5.0, 7.0, 10.0), \n",
    "                                       fit_intercept=True, normalize=False, scoring=None, \n",
    "                                       cv=5, gcv_mode=None, store_cv_values=False)\n",
    "    model_ridge.fit(train_X_df, train_Y_df)\n",
    "\n",
    "    # Try a Linear Regression model with LASSO and k-CV\n",
    "    model_lasso = linear_model.LassoCV(eps=0.001, n_alphas=100, \n",
    "                                       alphas=(0.1, 0.5, 1.0, 5.0, 7.0, 10.0), \n",
    "                                       fit_intercept=True, normalize=False, max_iter=1000, \n",
    "                                       tol=0.0001, copy_X=True, cv=5)\n",
    "    model_lasso.fit(train_X_df, train_Y_df)\n",
    "\n",
    "    return model_ridge, model_lasso\n"
   ]
  },
  {
   "cell_type": "code",
   "execution_count": null,
   "metadata": {
    "collapsed": true
   },
   "outputs": [],
   "source": [
    "\n",
    "def evaluate_models(estimator, X, Y):\n",
    "    y_pred = estimator.predict(X)\n",
    "    mse = metrics.mean_squared_error(Y.as_matrix(), y_pred)\n",
    "    r_sq = metrics.r2_score(Y.as_matrix(), y_pred)\n",
    "    return y_pred, mse, r_sq\n"
   ]
  },
  {
   "cell_type": "code",
   "execution_count": null,
   "metadata": {},
   "outputs": [],
   "source": [
    "\n",
    "def main():\n",
    "    raw_data_X, raw_data_Y, test_raw_data = read_split_input()\n",
    "    train_X_df, train_Y_df, test_df = feature_engineer(raw_data_X, raw_data_Y, test_raw_data)\n",
    "    # print(train_X_df)\n",
    "    print(train_Y_df)\n",
    "\n",
    "    model_regression = fit_regression_model(train_X_df, train_Y_df)\n",
    "    y_pred, mse, r_sq = evaluate_models(model_regression,train_X_df, train_Y_df)\n",
    "    print(model_regression)\n",
    "    print(\"Predictions: \", y_pred)\n",
    "    print(\"MSE: \", mse)\n",
    "    print(\"R-Squared: \", r_sq)\n",
    "    print(\"=======================================\")\n",
    "\n",
    "    model_ridge, model_lasso = fit_regularized_models(train_X_df, train_Y_df)\n",
    "    y_pred, mse, r_sq = evaluate_models(model_ridge,train_X_df, train_Y_df)\n",
    "    print(model_ridge)\n",
    "    print(\"Predictions: \", y_pred)\n",
    "    print(\"MSE: \", mse)\n",
    "    print(\"R-Squared: \", r_sq)\n",
    "    print(\"=======================================\")\n",
    "\n",
    "    y_pred, mse, r_sq = evaluate_models(model_lasso,train_X_df, train_Y_df)\n",
    "    print(model_lasso)\n",
    "    print(\"Predictions: \", y_pred)\n",
    "    print(\"MSE: \", mse)\n",
    "    print(\"R-Squared: \", r_sq)\n",
    "    print(\"=======================================\")\n",
    "    # return '\\n'.join(list(map(str,result)))\n",
    "\n",
    "\n",
    "if __name__ == '__main__':\n",
    "    main()\n"
   ]
  },
  {
   "cell_type": "code",
   "execution_count": null,
   "metadata": {
    "collapsed": true
   },
   "outputs": [],
   "source": []
  }
 ],
 "metadata": {
  "kernelspec": {
   "display_name": "Python 3",
   "language": "python",
   "name": "python3"
  },
  "language_info": {
   "codemirror_mode": {
    "name": "ipython",
    "version": 3
   },
   "file_extension": ".py",
   "mimetype": "text/x-python",
   "name": "python",
   "nbconvert_exporter": "python",
   "pygments_lexer": "ipython3",
   "version": "3.6.2"
  }
 },
 "nbformat": 4,
 "nbformat_minor": 2
}
