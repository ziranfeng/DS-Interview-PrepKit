{
 "cells": [
  {
   "cell_type": "code",
   "execution_count": null,
   "metadata": {},
   "outputs": [],
   "source": [
    "# Enter your code here. Read input from STDIN. Print output to STDOUT\n",
    "\n",
    "import numpy as np\n",
    "import pandas as pd\n",
    "from sklearn import linear_model\n",
    "\n",
    "N = input()\n",
    "print(N)\n",
    "\n",
    "raw_df = pd.read_table(\"/dev/stdin\", sep=\"\\t\", header=0, skiprows=1,dtype={'yyyy':str, 'month':str, 'tmax':str, 'tmin':str})\n",
    "print(list(raw_df))\n",
    "print(raw_df.shape)\n",
    "  \n",
    "raw_df.replace(\"January\", '01', inplace=True)\n",
    "raw_df.replace(\"February\", '02', inplace=True)\n",
    "raw_df.replace(\"March\", '03', inplace=True)\n",
    "raw_df.replace(\"April\", '04', inplace=True)\n",
    "raw_df.replace(\"May\", '05', inplace=True)\n",
    "raw_df.replace(\"June\", '06', inplace=True)\n",
    "raw_df.replace(\"July\", '07', inplace=True)\n",
    "raw_df.replace(\"August\", '08', inplace=True)\n",
    "raw_df.replace(\"September\", '09', inplace=True)\n",
    "raw_df.replace(\"October\", '10', inplace=True)\n",
    "raw_df.replace(\"November\", '11', inplace=True)\n",
    "raw_df.replace(\"December\", '12', inplace=True)\n",
    "\n",
    "raw_df['period'] = raw_df[['yyyy', 'month']].apply(lambda x: '-'.join(x), axis=1)\n",
    "raw_df['period'] = raw_df[['period']].apply(lambda x: x+\"-01\")\n",
    "raw_df.drop(['yyyy', 'month'], axis=1, inplace=True)\n",
    "\n",
    "row_ind1 = raw_df.index[raw_df['tmax'].str.contains('^Missing')].tolist()\n",
    "row_ind2 = raw_df.index[raw_df['tmin'].str.contains('^Missing')].tolist()\n",
    "print(row_ind1)\n",
    "print(row_ind2)\n",
    "\n",
    "raw_df.iloc[row_ind1,0] = np.nan\n",
    "raw_df.iloc[row_ind2,1] = np.nan\n",
    "print(raw_df)\n",
    "\n",
    "raw_df['period'] = pd.to_datetime(raw_df.period, format='%Y-%m-%d', errors='ignore')\n",
    "raw_df['tmax'] = pd.to_datetime(raw_df.tmax)\n",
    "raw_df['tmin'] = pd.to_datetime(raw_df.tmin)\n",
    "print(raw_df)\n",
    "\n",
    "\n"
   ]
  }
 ],
 "metadata": {
  "kernelspec": {
   "display_name": "Python 3",
   "language": "python",
   "name": "python3"
  },
  "language_info": {
   "codemirror_mode": {
    "name": "ipython",
    "version": 3
   },
   "file_extension": ".py",
   "mimetype": "text/x-python",
   "name": "python",
   "nbconvert_exporter": "python",
   "pygments_lexer": "ipython3",
   "version": "3.6.4"
  }
 },
 "nbformat": 4,
 "nbformat_minor": 2
}
