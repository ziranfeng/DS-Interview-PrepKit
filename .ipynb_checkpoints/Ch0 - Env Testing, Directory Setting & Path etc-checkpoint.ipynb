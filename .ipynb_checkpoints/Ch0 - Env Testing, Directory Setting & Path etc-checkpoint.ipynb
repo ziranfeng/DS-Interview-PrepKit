{
 "cells": [
  {
   "cell_type": "markdown",
   "metadata": {},
   "source": [
    "# Environment Testing"
   ]
  },
  {
   "cell_type": "code",
   "execution_count": 1,
   "metadata": {},
   "outputs": [
    {
     "name": "stdout",
     "output_type": "stream",
     "text": [
      "Env Testing completed\n"
     ]
    }
   ],
   "source": [
    "# Load commonly used packages\n",
    "\n",
    "import numpy as np\n",
    "import pandas as pd\n",
    "import matplotlib.pyplot as plt\n",
    "\n",
    "\n",
    "from sklearn.linear_model import LinearRegression\n",
    "from sklearn.linear_model import LogisticRegression\n",
    "from sklearn.svm import SVC\n",
    "from sklearn import tree\n",
    "from sklearn.ensemble import RandomForestClassifier\n",
    "from sklearn.naive_bayes import GaussianNB\n",
    "\n",
    "\n",
    "from sklearn.model_selection import train_test_split\n",
    "from sklearn.metrics import confusion_matrix\n",
    "from sklearn.metrics import accuracy_score\n",
    "from sklearn.metrics import classification_report\n",
    "\n",
    "print(\"Env Testing completed\")"
   ]
  },
  {
   "cell_type": "markdown",
   "metadata": {
    "collapsed": true
   },
   "source": [
    "# Directory Setting"
   ]
  },
  {
   "cell_type": "code",
   "execution_count": 5,
   "metadata": {},
   "outputs": [
    {
     "name": "stdout",
     "output_type": "stream",
     "text": [
      "/Users/zacfeng/Documents/GitHub/DS-Interview-PrepKit\n"
     ]
    }
   ],
   "source": [
    "# Check current working directory\n",
    "\n",
    "import os\n",
    "print(os.getcwd())\n"
   ]
  },
  {
   "cell_type": "code",
   "execution_count": 6,
   "metadata": {},
   "outputs": [
    {
     "ename": "NameError",
     "evalue": "name '__file__' is not defined",
     "output_type": "error",
     "traceback": [
      "\u001b[0;31m---------------------------------------------------------------------------\u001b[0m",
      "\u001b[0;31mNameError\u001b[0m                                 Traceback (most recent call last)",
      "\u001b[0;32m<ipython-input-6-91d7e3e89a77>\u001b[0m in \u001b[0;36m<module>\u001b[0;34m()\u001b[0m\n\u001b[1;32m      5\u001b[0m \u001b[0;34m\u001b[0m\u001b[0m\n\u001b[1;32m      6\u001b[0m \u001b[0;34m\u001b[0m\u001b[0m\n\u001b[0;32m----> 7\u001b[0;31m \u001b[0mos\u001b[0m\u001b[0;34m.\u001b[0m\u001b[0mchdir\u001b[0m\u001b[0;34m(\u001b[0m\u001b[0mos\u001b[0m\u001b[0;34m.\u001b[0m\u001b[0mpath\u001b[0m\u001b[0;34m.\u001b[0m\u001b[0mdirname\u001b[0m\u001b[0;34m(\u001b[0m\u001b[0m__file__\u001b[0m\u001b[0;34m)\u001b[0m\u001b[0;34m)\u001b[0m\u001b[0;34m\u001b[0m\u001b[0m\n\u001b[0m\u001b[1;32m      8\u001b[0m \u001b[0mprint\u001b[0m\u001b[0;34m(\u001b[0m\u001b[0mos\u001b[0m\u001b[0;34m.\u001b[0m\u001b[0mpath\u001b[0m\u001b[0;34m.\u001b[0m\u001b[0mdirname\u001b[0m\u001b[0;34m(\u001b[0m\u001b[0m__file__\u001b[0m\u001b[0;34m)\u001b[0m\u001b[0;34m)\u001b[0m\u001b[0;34m\u001b[0m\u001b[0m\n",
      "\u001b[0;31mNameError\u001b[0m: name '__file__' is not defined"
     ]
    }
   ],
   "source": [
    "# Set Main Dir and Data Dir\n",
    "\n",
    "main_dir = r'/Users/zacfeng/Documents/GitHub/DS-Interview-PrepKit'\n",
    "data_dir = r'/Users/zacfeng/Documents/GitHub/DS-Interview-PrepKit'\n",
    "\n",
    "\n",
    "os.chdir(os.path.dirname(__file__))\n",
    "print(os.path.dirname(__file__))"
   ]
  },
  {
   "cell_type": "markdown",
   "metadata": {},
   "source": [
    "# Data Importations"
   ]
  },
  {
   "cell_type": "markdown",
   "metadata": {},
   "source": [
    "#### 1. CSV & Excel using csv/pandas"
   ]
  },
  {
   "cell_type": "code",
   "execution_count": 9,
   "metadata": {},
   "outputs": [
    {
     "ename": "FileNotFoundError",
     "evalue": "[Errno 2] No such file or directory: 'passwd'",
     "output_type": "error",
     "traceback": [
      "\u001b[0;31m---------------------------------------------------------------------------\u001b[0m",
      "\u001b[0;31mFileNotFoundError\u001b[0m                         Traceback (most recent call last)",
      "\u001b[0;32m<ipython-input-9-c6cdc1a55f05>\u001b[0m in \u001b[0;36m<module>\u001b[0;34m()\u001b[0m\n\u001b[1;32m      4\u001b[0m \u001b[0;34m\u001b[0m\u001b[0m\n\u001b[1;32m      5\u001b[0m \u001b[0;31m# csv reader\u001b[0m\u001b[0;34m\u001b[0m\u001b[0;34m\u001b[0m\u001b[0m\n\u001b[0;32m----> 6\u001b[0;31m \u001b[0;32mwith\u001b[0m \u001b[0mopen\u001b[0m\u001b[0;34m(\u001b[0m\u001b[0;34m'passwd'\u001b[0m\u001b[0;34m,\u001b[0m \u001b[0mnewline\u001b[0m\u001b[0;34m=\u001b[0m\u001b[0;34m''\u001b[0m\u001b[0;34m,\u001b[0m \u001b[0mencoding\u001b[0m\u001b[0;34m=\u001b[0m\u001b[0;34m'utf-8'\u001b[0m\u001b[0;34m)\u001b[0m \u001b[0;32mas\u001b[0m \u001b[0mf\u001b[0m\u001b[0;34m:\u001b[0m\u001b[0;34m\u001b[0m\u001b[0m\n\u001b[0m\u001b[1;32m      7\u001b[0m     \u001b[0mreader\u001b[0m \u001b[0;34m=\u001b[0m \u001b[0mcsv\u001b[0m\u001b[0;34m.\u001b[0m\u001b[0mreader\u001b[0m\u001b[0;34m(\u001b[0m\u001b[0mf\u001b[0m\u001b[0;34m,\u001b[0m \u001b[0mdelimiter\u001b[0m\u001b[0;34m=\u001b[0m\u001b[0;34m':'\u001b[0m\u001b[0;34m,\u001b[0m \u001b[0mquoting\u001b[0m\u001b[0;34m=\u001b[0m\u001b[0mcsv\u001b[0m\u001b[0;34m.\u001b[0m\u001b[0mQUOTE_NONE\u001b[0m\u001b[0;34m)\u001b[0m\u001b[0;34m\u001b[0m\u001b[0m\n\u001b[1;32m      8\u001b[0m     \u001b[0;32mfor\u001b[0m \u001b[0mrow\u001b[0m \u001b[0;32min\u001b[0m \u001b[0mreader\u001b[0m\u001b[0;34m:\u001b[0m\u001b[0;34m\u001b[0m\u001b[0m\n",
      "\u001b[0;31mFileNotFoundError\u001b[0m: [Errno 2] No such file or directory: 'passwd'"
     ]
    }
   ],
   "source": [
    "import csv\n",
    "# Read/Write CSV using WITH\n",
    "# csv reader\n",
    "with open('passwd', newline='', encoding='utf-8') as f:\n",
    "    reader = csv.reader(f, delimiter=':', quoting=csv.QUOTE_NONE)\n",
    "    for row in reader:\n",
    "        print(row)\n",
    "        print(', '.join(row))\n",
    "\n",
    "\n",
    "# csv writer\n",
    "with open('output.csv', 'w', newline='') as csvfile:\n",
    "    spamwriter = csv.writer(csvfile, delimiter=' ', quotechar='|', quoting=csv.QUOTE_MINIMAL)\n",
    "    spamwriter.writerow(['Spam'] * 5 + ['Baked Beans'])\n",
    "    spamwriter.writerow(['Spam', 'Lovely Spam', 'Wonderful Spam'])"
   ]
  },
  {
   "cell_type": "code",
   "execution_count": null,
   "metadata": {
    "collapsed": true
   },
   "outputs": [],
   "source": [
    "# Read/Write From CSV with api\n",
    "\n",
    "# The code below reads data from the spreadsheet and prints it\n",
    "file_reader = csv.reader(open('input.csv', 'rb'), delimiter=',')\n",
    "for row in file_reader:\n",
    "    print row, \", \"\n",
    "\n",
    "\n",
    "# The code below writes data onto a spreadsheet.\n",
    "file_writer = csv.writer(open('output.csv', 'wb'), delimiter=',')\n",
    "file_writer.writerow([\"Name\", \"Profession\", \"Age\"])\n",
    "file_writer.writerow([\"Adam\", \"Engineer\", \"28\"])"
   ]
  },
  {
   "cell_type": "code",
   "execution_count": null,
   "metadata": {
    "collapsed": true
   },
   "outputs": [],
   "source": [
    "# Read/Write Excel with Pandas\n",
    "import pandas as pd\n",
    "pd.read_excel(io, sheet_name=0, header=0, \n",
    "              names=None, index_col=None, usecols=None, \n",
    "              squeeze=False, dtype=None, engine=None, converters=None, \n",
    "              true_values=None, false_values=None, skiprows=None, nrows=None, \n",
    "              na_values=None, parse_dates=False, date_parser=None, \n",
    "              thousands=None, comment=None, skipfooter=0, convert_float=True)"
   ]
  },
  {
   "cell_type": "code",
   "execution_count": null,
   "metadata": {
    "collapsed": true
   },
   "outputs": [],
   "source": [
    "df = pd.DataFrame({'a': ['1', '#2'], 'b': ['2', '3']})\n",
    "\n",
    "df.to_excel('tmp.xlsx', index=False)\n",
    "\n",
    "pd.read_excel('tmp.xlsx')"
   ]
  },
  {
   "cell_type": "markdown",
   "metadata": {},
   "source": [
    "#### 2. Array (HackerRank)"
   ]
  },
  {
   "cell_type": "code",
   "execution_count": null,
   "metadata": {},
   "outputs": [],
   "source": [
    "# Here are a few tips :\n",
    "\n",
    "#Reading single integer : \n",
    "n = scanf(\"%d\",1)\n",
    "\n",
    "# Reading a 1D array of size n : \n",
    "A = scanf(\"%lf\",[n,1])\n",
    "\n",
    "# Reading a 2D array of size n*m : \n",
    "X = scanf(\"%lf\",[m,n])"
   ]
  },
  {
   "cell_type": "code",
   "execution_count": 14,
   "metadata": {
    "collapsed": true
   },
   "outputs": [],
   "source": [
    "def read_input():\n",
    "    train_data = list()\n",
    "    test_data = list()\n",
    "    \n",
    "    F, N = map(int,input().split(' '))\n",
    "    [train_data.append(input().split(' ')) for _ in range(0,N)]\n",
    "    \n",
    "    T = int(input())\n",
    "    [test_data.append(input().split(' ')) for _ in range(0,T)]\n",
    "    \n",
    "    train_data = np.array(train_data,dtype=np.float64)\n",
    "    test_data = np.array(test_data,dtype=np.float64)\n",
    "    \n",
    "    X_train = train_data[:,0:F]\n",
    "    Y_train = train_data[:,-1]\n",
    "    X_test = test_data\n",
    "    \n",
    "    return X_train,Y_train,X_test\n",
    "\n"
   ]
  },
  {
   "cell_type": "markdown",
   "metadata": {},
   "source": [
    "# Training and Testing Datasets splitting"
   ]
  },
  {
   "cell_type": "code",
   "execution_count": null,
   "metadata": {
    "collapsed": true
   },
   "outputs": [],
   "source": [
    "import numpy as np\n",
    "from sklearn.model_selection import train_test_split\n",
    "\n",
    "\n",
    "def read_split_input():\n",
    "    F, N = map(int, input().split())\n",
    "    raw_data = np.array([input().split() for _ in range(N)], float)\n",
    "\n",
    "    T = int(input())\n",
    "    test_data = np.array([input().split() for _ in range(T)], float)\n",
    "    \n",
    "    X_train, X_valid, y_train, y_valid = train_test_split(train[:,:2],train[:,2], test_size=0.33, random_state=42)\n",
    "    \n",
    "    return X_train, X_val, y_train, y_val, test_data\n"
   ]
  },
  {
   "cell_type": "code",
   "execution_count": null,
   "metadata": {
    "collapsed": true
   },
   "outputs": [],
   "source": [
    "import numpy as np\n",
    "from sklearn.model_selection import KFold # import KFold\n",
    "\n",
    "def read_kfold_input(k):\n",
    "    F, N = map(int, input().split())\n",
    "    raw_data = np.array([input().split() for _ in range(N)], float)\n",
    "\n",
    "    T = int(input())\n",
    "    test_data = np.array([input().split() for _ in range(T)], float)\n",
    "    \n",
    "    kf = KFold(n_splits=k)      # Define the split - into 2 folds \n",
    "    kf.get_n_splits(raw_data)   # returns the number of splitting iterations in the cross-validator\n",
    " \n",
    "    KFold(n_splits=2, random_state=None, shuffle=False)\n",
    "\n",
    "    for train_index, test_index in kf.split(X):\n",
    "        print(“TRAIN:”, train_index, “TEST:”, test_index)\n",
    "    \n",
    "        X_train, X_valid = X[train_index], X[test_index]\n",
    "        y_train, y_valid = y[train_index], y[test_index]"
   ]
  }
 ],
 "metadata": {
  "kernelspec": {
   "display_name": "Python 3",
   "language": "python",
   "name": "python3"
  },
  "language_info": {
   "codemirror_mode": {
    "name": "ipython",
    "version": 3
   },
   "file_extension": ".py",
   "mimetype": "text/x-python",
   "name": "python",
   "nbconvert_exporter": "python",
   "pygments_lexer": "ipython3",
   "version": "3.6.2"
  }
 },
 "nbformat": 4,
 "nbformat_minor": 2
}
